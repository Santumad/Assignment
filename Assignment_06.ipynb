{
  "nbformat": 4,
  "nbformat_minor": 0,
  "metadata": {
    "colab": {
      "provenance": []
    },
    "kernelspec": {
      "name": "python3",
      "display_name": "Python 3"
    },
    "language_info": {
      "name": "python"
    }
  },
  "cells": [
    {
      "cell_type": "markdown",
      "source": [
        "1. write a function which will try to find out len of a string without using an inbuilt len function "
      ],
      "metadata": {
        "id": "cxFH2ObPKIlA"
      }
    },
    {
      "cell_type": "code",
      "execution_count": null,
      "metadata": {
        "id": "AuE7gdXcKCDq"
      },
      "outputs": [],
      "source": [
        "def length():\n",
        "  name = input(\"Enter string :\")\n",
        "  sum = 0\n",
        "  for i in name:\n",
        "    sum+=1\n",
        "  return sum"
      ]
    },
    {
      "cell_type": "code",
      "source": [
        "length()"
      ],
      "metadata": {
        "colab": {
          "base_uri": "https://localhost:8080/"
        },
        "id": "XfjNpMnCLfpP",
        "outputId": "0ee503e6-a6c3-445e-d1af-8108b651ad21"
      },
      "execution_count": null,
      "outputs": [
        {
          "name": "stdout",
          "output_type": "stream",
          "text": [
            "Enter string :Santosh\n"
          ]
        },
        {
          "output_type": "execute_result",
          "data": {
            "text/plain": [
              "7"
            ]
          },
          "metadata": {},
          "execution_count": 23
        }
      ]
    },
    {
      "cell_type": "markdown",
      "source": [
        "2. write a function which  will be able to print an index of list element without using an index function"
      ],
      "metadata": {
        "id": "Pv_VtzWOLEDe"
      }
    },
    {
      "cell_type": "code",
      "source": [
        "def ind():\n",
        "  list1 = [1,2,3,4,5,6]\n",
        "  for i in range(len(list1)):\n",
        "    print(list1[i])\n",
        "ind()\n"
      ],
      "metadata": {
        "colab": {
          "base_uri": "https://localhost:8080/"
        },
        "id": "0X9IRLOPLHdi",
        "outputId": "827ceb03-c4a4-4d03-d834-219fc7b77570"
      },
      "execution_count": null,
      "outputs": [
        {
          "output_type": "stream",
          "name": "stdout",
          "text": [
            "1\n",
            "2\n",
            "3\n",
            "4\n",
            "5\n",
            "6\n"
          ]
        }
      ]
    },
    {
      "cell_type": "markdown",
      "source": [
        "3. write a function which will be able to print an ip address of your system"
      ],
      "metadata": {
        "id": "GC8VSHGtUZZe"
      }
    },
    {
      "cell_type": "code",
      "source": [
        "def ipadd():\n",
        "  import socket\n",
        "  hostname = socket.gethostname()\n",
        "  IPAddr = socket.gethostbyname(hostname)\n",
        "  print(\"Your Computer Name is:\" + hostname)\n",
        "  print(\"Your Computer IP Address is:\" + IPAddr)\n",
        "ipadd()"
      ],
      "metadata": {
        "colab": {
          "base_uri": "https://localhost:8080/"
        },
        "id": "akat2kDgUawC",
        "outputId": "187c4ef3-1c64-493a-8f1b-a3fc64646595"
      },
      "execution_count": null,
      "outputs": [
        {
          "output_type": "stream",
          "name": "stdout",
          "text": [
            "Your Computer Name is:e28726fc342e\n",
            "Your Computer IP Address is:172.28.0.2\n"
          ]
        }
      ]
    },
    {
      "cell_type": "markdown",
      "source": [
        "4. write a function which will shutdown your system"
      ],
      "metadata": {
        "id": "6IBGsdLDWEbx"
      }
    },
    {
      "cell_type": "code",
      "source": [
        "def shutdown1():\n",
        "  import os \n",
        "  shutdown = input(\"shutdown your system ? (yes / no): \")\n",
        "  if shutdown == 'no':\n",
        "      exit()\n",
        "  else:\n",
        "      os.system(\"shutdown /s /t 1\")\n",
        "shutdown1()"
      ],
      "metadata": {
        "colab": {
          "base_uri": "https://localhost:8080/"
        },
        "id": "1KENzMGhWCuk",
        "outputId": "cd1c6103-4f4f-4591-9a12-206549ec8b92"
      },
      "execution_count": null,
      "outputs": [
        {
          "name": "stdout",
          "output_type": "stream",
          "text": [
            "Do you wish to shutdown your computer ? (yes / no): no\n"
          ]
        }
      ]
    },
    {
      "cell_type": "markdown",
      "source": [
        "5. write a function which will take input as a list with any kind of numeric value and give an out as a multiplication of \n",
        "all the numeric data \n",
        "\n",
        "    l = [3.5, 6.56, 4,5,\"sudh\" , \"ineuron\" , 'fsda bootcamp 2.0']"
      ],
      "metadata": {
        "id": "tl-4-2S2XY4A"
      }
    },
    {
      "cell_type": "code",
      "source": [
        "l = [3.5, 6.56, 4,5,\"sudh\" , \"ineuron\" , \"fsda bootcamp 2.0\"]\n",
        "result = 1\n",
        "for i in l:\n",
        "  if type(i) != str :\n",
        "    result = result * i\n",
        "print(\"multiplication :\",result)"
      ],
      "metadata": {
        "colab": {
          "base_uri": "https://localhost:8080/"
        },
        "id": "kaTBBlvf4htd",
        "outputId": "d1b606bd-5b5d-4d6c-eeda-7b3439fdaa3f"
      },
      "execution_count": null,
      "outputs": [
        {
          "output_type": "stream",
          "name": "stdout",
          "text": [
            "multiplication : 459.19999999999993\n"
          ]
        }
      ]
    },
    {
      "cell_type": "markdown",
      "source": [
        "6. write a function which will be able to read all the mails  "
      ],
      "metadata": {
        "id": "FBcrH6V6FE1r"
      }
    },
    {
      "cell_type": "code",
      "source": [
        "import imaplib\n",
        "import email\n",
        "\n",
        "mb = imaplib.IMAP4_SSL(server)\n",
        "rv, mesasge = mb.login(user, password)\n",
        "# 'OK', [b'LOGIN completed']\n",
        "rv, num_emails = M.select('Inbox')\n",
        "# 'OK', [b'22']\n",
        "\n",
        "# Get unread messages\n",
        "rv, messages = M.search(None, 'UNSEEN')\n",
        "# 'OK', [b'21 22']\n",
        "\n",
        "# Download a message\n",
        "typ, data = M.fetch(b'21', '(RFC822)')\n",
        "\n",
        "# Parse the email\n",
        "msg = email.message_from_bytes(data[0][1])\n",
        "print(msg['From'], \":\", msg['Subject'])\n",
        "\n",
        "# Print the Plain Text (is this always the plain text?)\n",
        "print(msg.get_payload()[0].get_payload())\n"
      ],
      "metadata": {
        "id": "baOSKyLyFMEN"
      },
      "execution_count": null,
      "outputs": []
    },
    {
      "cell_type": "markdown",
      "source": [
        "7. write a function which will be able to send a mail to anyone "
      ],
      "metadata": {
        "id": "S5jJT33tFHvN"
      }
    },
    {
      "cell_type": "code",
      "source": [
        "import smtplib\n",
        "def sendemail(gmail_user,gmail_password,to,subject,body):\n",
        "  sent_form =gmail_user\n",
        "  email_text= \"\"\"\\\n",
        "  From: %s\n",
        "  To: %s\n",
        "  Subject: %s\n",
        "  \n",
        "  %s\n",
        "  \"\"\" % (sent_form,\", \".join(to), subject, body)\n",
        "  try:\n",
        "    smtp_server = smtplib.SMTP_SSL('smtp.gmail.com',465)\n",
        "    smtp_server.ehlo()\n",
        "    smtp_server.login(gmail_user,gmail_password)\n",
        "    smtp_server.sendmail(sent_form,to,email_text)\n",
        "    smtp_server.close()\n",
        "    print(\"Email sent successfully!\")\n",
        "  except Exception as ex:\n",
        "    print(\"Something went wrong...\",ex)"
      ],
      "metadata": {
        "id": "uMFZ1clLFNi7"
      },
      "execution_count": null,
      "outputs": []
    },
    {
      "cell_type": "code",
      "source": [
        "sendemail(\"sender mail\",'password',['list of resiver of mail'],\"subject of mail\",\"email body\")"
      ],
      "metadata": {
        "id": "X-1upBy_V0ao"
      },
      "execution_count": null,
      "outputs": []
    },
    {
      "cell_type": "markdown",
      "source": [
        "8. write a function which will be able to read a doc/word file from your system"
      ],
      "metadata": {
        "id": "Pc0dFMG3FLES"
      }
    },
    {
      "cell_type": "code",
      "source": [
        "def file():\n",
        "    file1 = open(r\"C:\\Users\\Santosh Madane\\OneDrive\\Documents\\demo.txt\", \"r\")\n",
        "    print(file1.read())\n",
        "file()"
      ],
      "metadata": {
        "id": "McoBDOoFFOfa"
      },
      "execution_count": null,
      "outputs": []
    }
  ]
}